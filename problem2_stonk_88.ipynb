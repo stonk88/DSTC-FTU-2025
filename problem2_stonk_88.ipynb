{
 "cells": [
  {
   "cell_type": "code",
   "execution_count": 5,
   "id": "cdf85ccc",
   "metadata": {},
   "outputs": [],
   "source": [
    "import os\n",
    "import pandas as pd\n",
    "from dotenv import load_dotenv\n",
    "from FiinQuantX import FiinSession\n",
    "from constant import *\n",
    "\n",
    "load_dotenv()\n",
    "username = os.getenv('username')\n",
    "password = os.getenv('password')\n",
    "\n",
    "\n",
    "\n",
    "client = FiinSession(\n",
    "    username=username,\n",
    "    password=password,\n",
    ").login()\n",
    "\n",
    "tickers = UPCOMINDEX # list of tickers: ['UPCOMINDEX',VNINDEX,HNXINDEX]\n",
    "\n",
    "\n",
    "\n"
   ]
  },
  {
   "cell_type": "code",
   "execution_count": null,
   "id": "3b391532",
   "metadata": {},
   "outputs": [],
   "source": [
    "try:\n",
    "    data = client.Fetch_Trading_Data(\n",
    "        realtime = False, \n",
    "        tickers = tickers,\n",
    "        fields = ['open', 'high', 'low', 'close', 'volume', 'bu','sd', 'fb', 'fs', 'fn'], \n",
    "        period = 30,\n",
    "        by = '1d',\n",
    "    )\n",
    "except Exception as e:\n",
    "    print(\"Error fetching data:\", e)\n",
    "    data = []  "
   ]
  },
  {
   "cell_type": "code",
   "execution_count": null,
   "id": "9906955c",
   "metadata": {},
   "outputs": [],
   "source": [
    "df = pd.DataFrame(data)\n",
    "df.to_csv('upcomindex_30days.csv', index=False)"
   ]
  },
  {
   "cell_type": "code",
   "execution_count": null,
   "id": "2d3f0c21",
   "metadata": {},
   "outputs": [
    {
     "ename": "TypeError",
     "evalue": "argument of type 'NoneType' is not iterable",
     "output_type": "error",
     "traceback": [
      "\u001b[31m---------------------------------------------------------------------------\u001b[39m",
      "\u001b[31mTypeError\u001b[39m                                 Traceback (most recent call last)",
      "\u001b[36mCell\u001b[39m\u001b[36m \u001b[39m\u001b[32mIn[9]\u001b[39m\u001b[32m, line 8\u001b[39m\n\u001b[32m      1\u001b[39m \u001b[38;5;28;01mimport\u001b[39;00m\u001b[38;5;250m \u001b[39m\u001b[34;01mjson\u001b[39;00m\n\u001b[32m      3\u001b[39m client = FiinSession(\n\u001b[32m      4\u001b[39m     username=username,\n\u001b[32m      5\u001b[39m     password=password,\n\u001b[32m      6\u001b[39m ).login()\n\u001b[32m----> \u001b[39m\u001b[32m8\u001b[39m fs_dict = \u001b[43mclient\u001b[49m\u001b[43m.\u001b[49m\u001b[43mFundamentalAnalysis\u001b[49m\u001b[43m(\u001b[49m\u001b[43m)\u001b[49m\u001b[43m.\u001b[49m\u001b[43mget_financeStatement\u001b[49m\u001b[43m(\u001b[49m\n\u001b[32m      9\u001b[39m \u001b[43m    \u001b[49m\u001b[43mtickers\u001b[49m\u001b[43m=\u001b[49m\u001b[43m[\u001b[49m\u001b[33;43m\"\u001b[39;49m\u001b[33;43mHPG\u001b[39;49m\u001b[33;43m\"\u001b[39;49m\u001b[43m]\u001b[49m\u001b[43m,\u001b[49m\u001b[43m   \u001b[49m\u001b[38;5;66;43;03m# ✅ Luôn truyền dưới dạng list\u001b[39;49;00m\n\u001b[32m     10\u001b[39m \u001b[43m    \u001b[49m\u001b[43mstatement\u001b[49m\u001b[43m=\u001b[49m\u001b[33;43m\"\u001b[39;49m\u001b[33;43mbalancesheet\u001b[39;49m\u001b[33;43m\"\u001b[39;49m\u001b[43m,\u001b[49m\n\u001b[32m     11\u001b[39m \u001b[43m    \u001b[49m\u001b[43myears\u001b[49m\u001b[43m=\u001b[49m\u001b[43m[\u001b[49m\u001b[32;43m2024\u001b[39;49m\u001b[43m]\u001b[49m\u001b[43m,\u001b[49m\n\u001b[32m     12\u001b[39m \u001b[43m    \u001b[49m\u001b[43mquarters\u001b[49m\u001b[43m=\u001b[49m\u001b[43m[\u001b[49m\u001b[32;43m4\u001b[39;49m\u001b[43m]\u001b[49m\u001b[43m,\u001b[49m\n\u001b[32m     13\u001b[39m \u001b[43m    \u001b[49m\u001b[43maudited\u001b[49m\u001b[43m=\u001b[49m\u001b[38;5;28;43;01mTrue\u001b[39;49;00m\u001b[43m,\u001b[49m\n\u001b[32m     14\u001b[39m \u001b[43m    \u001b[49m\u001b[38;5;28;43mtype\u001b[39;49m\u001b[43m=\u001b[49m\u001b[33;43m\"\u001b[39;49m\u001b[33;43mconsolidated\u001b[39;49m\u001b[33;43m\"\u001b[39;49m\u001b[43m,\u001b[49m\n\u001b[32m     15\u001b[39m \u001b[43m    \u001b[49m\u001b[43mfields\u001b[49m\u001b[43m=\u001b[49m\u001b[43m[\u001b[49m\u001b[33;43m\"\u001b[39;49m\u001b[33;43mAssets\u001b[39;49m\u001b[33;43m\"\u001b[39;49m\u001b[43m]\u001b[49m\n\u001b[32m     16\u001b[39m \u001b[43m       \u001b[49m\u001b[38;5;66;43;03m# hoặc chỉ định ví dụ: [\"assets.totalAssets\",\"equity.totalEquity\"]\u001b[39;49;00m\n\u001b[32m     17\u001b[39m \u001b[43m)\u001b[49m\n\u001b[32m     19\u001b[39m \u001b[38;5;28mprint\u001b[39m(json.dumps(fs_dict, indent=\u001b[32m4\u001b[39m))\n",
      "\u001b[36mFile \u001b[39m\u001b[32m<string>:217\u001b[39m, in \u001b[36mget_financeStatement\u001b[39m\u001b[34m(self, statement, tickers, years, type, audited, quarters, fields)\u001b[39m\n",
      "\u001b[36mFile \u001b[39m\u001b[32m<string>:136\u001b[39m, in \u001b[36m__process_statement\u001b[39m\u001b[34m(self, statement, tickers, years, type, audited, quarters, fields)\u001b[39m\n",
      "\u001b[36mFile \u001b[39m\u001b[32m<string>:80\u001b[39m, in \u001b[36m__fetch_finance_data\u001b[39m\u001b[34m(self, statement, tickers, years, audited, type, quarters, sections_str)\u001b[39m\n",
      "\u001b[31mTypeError\u001b[39m: argument of type 'NoneType' is not iterable"
     ]
    }
   ],
   "source": [
    "import json\n",
    "\n",
    "client = FiinSession(\n",
    "    username=username,\n",
    "    password=password,\n",
    ").login()\n",
    "\n",
    "tickers = ['HPG']\n",
    "\n",
    "fs_dict = client.FundamentalAnalysis().get_financeStatement(\n",
    "    tickers=tickers,\n",
    "    statement=\"balancesheet\",\n",
    "    years=[2024],\n",
    "    quarters=[4],\n",
    "    audited=True,\n",
    "    type=\"consolidated\",\n",
    "    fields=[\"CurrentAssets\"]\n",
    ")\n",
    "\n",
    "print(json.dumps(fs_dict, indent=4))"
   ]
  },
  {
   "cell_type": "code",
   "execution_count": 55,
   "id": "43f39d6c",
   "metadata": {},
   "outputs": [
    {
     "name": "stdout",
     "output_type": "stream",
     "text": [
      "            close   sma_20   sma_50       sma_200\n",
      "0    14890.248248      NaN      NaN           NaN\n",
      "1    15077.841927      NaN      NaN           NaN\n",
      "2    15007.494298      NaN      NaN           NaN\n",
      "3    15007.494298      NaN      NaN           NaN\n",
      "4    15030.943507      NaN      NaN           NaN\n",
      "..            ...      ...      ...           ...\n",
      "995  26200.000000  25212.5  23345.0  21625.276500\n",
      "996  27350.000000  25442.5  23468.0  21658.633375\n",
      "997  27650.000000  25675.0  23595.0  21692.028125\n",
      "998  27550.000000  25902.5  23720.0  21724.922875\n",
      "999  27800.000000  26142.5  23847.0  21759.903125\n",
      "\n",
      "[1000 rows x 4 columns]\n"
     ]
    }
   ],
   "source": [
    "fi = client.FiinIndicator()\n",
    "data['sma_20'] = fi.sma(data['close'], window = 20)\n",
    "data['sma_50'] = fi.sma(data['close'], window = 50)\n",
    "data['sma_200'] = fi.sma(data['close'], window = 200)\n",
    "print(data[['close', 'sma_20', 'sma_50', 'sma_200']])"
   ]
  },
  {
   "cell_type": "code",
   "execution_count": 58,
   "id": "143d77b1",
   "metadata": {},
   "outputs": [
    {
     "name": "stdout",
     "output_type": "stream",
     "text": [
      "[BUY] Date: 2021-11-08 00:00, Shares: 6.0, Price: 15664.07217312, Cash left: 6015.566961280012\n",
      "[SELL] Date: 2021-12-27 00:00, Shares: 6.0, Price: 15546.82612392, Cash after sale: 99296.52370480001\n",
      "[BUY] Date: 2022-01-04 00:00, Shares: 6.0, Price: 16133.05636992, Cash left: 2498.185485280017\n",
      "[SELL] Date: 2022-01-06 00:00, Shares: 6.0, Price: 15828.216642, Cash after sale: 97467.48533728001\n",
      "[BUY] Date: 2022-01-24 00:00, Shares: 6.0, Price: 16109.60716008, Cash left: 809.8423768000066\n",
      "[SELL] Date: 2022-03-11 00:00, Shares: 6.0, Price: 15335.78323536, Cash after sale: 92824.54178896\n",
      "[BUY] Date: 2022-07-21 00:00, Shares: 6.0, Price: 14450.5755639, Cash left: 6121.088405560004\n",
      "[SELL] Date: 2022-07-25 00:00, Shares: 6.0, Price: 14098.8374163, Cash after sale: 90714.11290336002\n",
      "[BUY] Date: 2022-08-08 00:00, Shares: 6.0, Price: 14509.1985885, Cash left: 3658.921372360026\n",
      "[SELL] Date: 2022-09-16 00:00, Shares: 6.0, Price: 13571.2301949, Cash after sale: 85086.30254176003\n",
      "[BUY] Date: 2022-12-02 00:00, Shares: 6.0, Price: 13776.410781, Cash left: 2427.8378557600226\n",
      "[SELL] Date: 2023-03-22 00:00, Shares: 6.0, Price: 14157.4604409, Cash after sale: 87372.60050116002\n",
      "[BUY] Date: 2023-04-13 00:00, Shares: 5.0, Price: 14626.4446377, Cash left: 14240.377312660014\n",
      "[SELL] Date: 2023-05-08 00:00, Shares: 5.0, Price: 14626.4446377, Cash after sale: 87372.60050116002\n",
      "[BUY] Date: 2023-05-23 00:00, Shares: 5.0, Price: 14860.9367361, Cash left: 13067.916820660015\n",
      "[SELL] Date: 2023-09-13 00:00, Shares: 5.0, Price: 15826.041, Cash after sale: 92198.12182066002\n",
      "[BUY] Date: 2023-11-21 00:00, Shares: 5.0, Price: 15861.132, Cash left: 12892.461820660013\n",
      "[SELL] Date: 2024-04-22 00:00, Shares: 5.0, Price: 18808.776, Cash after sale: 106936.34182066002\n",
      "[BUY] Date: 2024-05-22 00:00, Shares: 5.0, Price: 19615.869, Cash left: 8856.996820660017\n",
      "[SELL] Date: 2024-07-17 00:00, Shares: 5.0, Price: 20469.75, Cash after sale: 111205.74682066002\n",
      "[BUY] Date: 2024-09-06 00:00, Shares: 5.0, Price: 20553.3, Cash left: 8439.246820660017\n",
      "[SELL] Date: 2024-11-12 00:00, Shares: 5.0, Price: 20762.175, Cash after sale: 112250.12182066002\n",
      "[BUY] Date: 2024-12-19 00:00, Shares: 5.0, Price: 20720.4, Cash left: 8648.121820660017\n",
      "[SELL] Date: 2025-02-03 00:00, Shares: 5.0, Price: 20971.05, Cash after sale: 113503.37182066002\n",
      "[BUY] Date: 2025-02-14 00:00, Shares: 5.0, Price: 21514.125, Cash left: 5932.746820660017\n",
      "[SELL] Date: 2025-04-08 00:00, Shares: 5.0, Price: 18506.325, Cash after sale: 98464.37182066002\n",
      "[BUY] Date: 2025-05-29 00:00, Shares: 4.0, Price: 21300.0, Cash left: 13264.371820660017\n",
      "Final Portfolio Value: 124464.37182066002\n"
     ]
    }
   ],
   "source": [
    "class backtest_strategy:\n",
    "    def __init__(self, data):\n",
    "        self.data = data\n",
    "        self.position = 0  # 1 for holding a position, 0 for no position\n",
    "        self.cash = 100000  # starting cash\n",
    "        self.shares = 0  # number of shares held\n",
    "        self.trades = []  # record of trades\n",
    "\n",
    "    def run(self):\n",
    "        for i in range(1, len(self.data)):\n",
    "            if self.data['sma_20'].iloc[i] > self.data['sma_50'].iloc[i] and self.position == 0:\n",
    "                # Buy signal\n",
    "                self.shares = self.cash // self.data['close'].iloc[i]\n",
    "                self.cash -= self.shares * self.data['close'].iloc[i]\n",
    "                self.position = 1\n",
    "                self.trades.append((self.data.index[i], 'BUY', self.shares, self.data['close'].iloc[i]))\n",
    "                print(f\"[BUY] Date: {self.data['timestamp'].iloc[i]}, Shares: {self.shares}, Price: {self.data['close'].iloc[i]}, Cash left: {self.cash}\")\n",
    "            elif self.data['sma_20'].iloc[i] < self.data['sma_50'].iloc[i] and self.position == 1:\n",
    "                # Sell signal\n",
    "                self.cash += self.shares * self.data['close'].iloc[i]\n",
    "                self.position = 0\n",
    "                self.trades.append((self.data.index[i], 'SELL', self.shares, self.data['close'].iloc[i]))\n",
    "                print(f\"[SELL] Date: {self.data['timestamp'].iloc[i]}, Shares: {self.shares}, Price: {self.data['close'].iloc[i]}, Cash after sale: {self.cash}\")\n",
    "                self.shares = 0\n",
    "\n",
    "        # Final portfolio value\n",
    "        final_value = self.cash + (self.shares * self.data['close'].iloc[-1])\n",
    "        return final_value, self.trades\n",
    "\n",
    "bt = backtest_strategy(data)\n",
    "final_value, trades = bt.run()\n",
    "print(f\"Final Portfolio Value: {final_value}\")"
   ]
  },
  {
   "cell_type": "code",
   "execution_count": null,
   "id": "2c535874",
   "metadata": {},
   "outputs": [],
   "source": []
  },
  {
   "cell_type": "code",
   "execution_count": null,
   "id": "b148ae42",
   "metadata": {},
   "outputs": [],
   "source": []
  }
 ],
 "metadata": {
  "kernelspec": {
   "display_name": "venv",
   "language": "python",
   "name": "python3"
  },
  "language_info": {
   "codemirror_mode": {
    "name": "ipython",
    "version": 3
   },
   "file_extension": ".py",
   "mimetype": "text/x-python",
   "name": "python",
   "nbconvert_exporter": "python",
   "pygments_lexer": "ipython3",
   "version": "3.13.7"
  }
 },
 "nbformat": 4,
 "nbformat_minor": 5
}
