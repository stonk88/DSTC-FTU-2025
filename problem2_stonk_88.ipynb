{
 "cells": [
  {
   "cell_type": "code",
   "execution_count": 45,
   "id": "cdf85ccc",
   "metadata": {},
   "outputs": [
    {
     "name": "stdout",
     "output_type": "stream",
     "text": [
      "Fetching data, it may take a while. Please wait...\n",
      "    ticker         timestamp          open          high           low  \\\n",
      "0      VIX  2024-06-20 00:00  13827.119394  13827.119394  13408.115776   \n",
      "1      VIX  2024-06-21 00:00  13446.207014  13560.480728  13331.933300   \n",
      "2      VIX  2024-06-24 00:00  13331.933300  13408.115776  12646.291016   \n",
      "3      VIX  2024-06-25 00:00  12798.655968  12912.929682  12684.382254   \n",
      "4      VIX  2024-06-26 00:00  12798.655968  12989.112158  12722.473492   \n",
      "..     ...               ...           ...           ...           ...   \n",
      "295    VIX  2025-08-25 00:00  36450.000000  36450.000000  32300.000000   \n",
      "296    VIX  2025-08-26 00:00  32450.000000  34850.000000  32300.000000   \n",
      "297    VIX  2025-08-27 00:00  36050.000000  37250.000000  35500.000000   \n",
      "298    VIX  2025-08-28 00:00  37000.000000  38450.000000  35850.000000   \n",
      "299    VIX  2025-08-29 00:00  38800.000000  39250.000000  37650.000000   \n",
      "\n",
      "            close      volume          bu          sd            fb  \\\n",
      "0    13408.115776  22943982.0   7197800.0  12330800.0  7.185900e+08   \n",
      "1    13331.933300  15263192.0   5407200.0   8209500.0  3.315100e+08   \n",
      "2    12722.473492  33202065.0  10436100.0  21621600.0  8.985758e+09   \n",
      "3    12798.655968  10808675.0   4951600.0   5555400.0  1.555384e+10   \n",
      "4    12798.655968   7792678.0   3323200.0   3934700.0  4.035000e+07   \n",
      "..            ...         ...         ...         ...           ...   \n",
      "295  32600.000000  35685019.0  12967300.0  18033900.0  1.334201e+11   \n",
      "296  34850.000000  32139891.0  21204000.0  10208700.0  1.880622e+11   \n",
      "297  36850.000000  61205150.0  34556000.0  24577700.0  1.723730e+11   \n",
      "298  38400.000000  58131489.0  29474800.0  26040600.0  1.229942e+11   \n",
      "299  37700.000000  64723915.0  21125700.0  36599400.0  3.331726e+10   \n",
      "\n",
      "               fs            fn  \n",
      "0    1.376472e+10 -1.304614e+10  \n",
      "1    2.359038e+10 -2.325888e+10  \n",
      "2    7.573420e+09  1.412338e+09  \n",
      "3    7.094092e+09  8.459743e+09  \n",
      "4    4.081301e+09 -4.040951e+09  \n",
      "..            ...           ...  \n",
      "295  2.136047e+11 -8.018464e+10  \n",
      "296  4.245736e+10  1.456049e+11  \n",
      "297  8.925047e+10  8.312253e+10  \n",
      "298  1.879487e+11 -6.495450e+10  \n",
      "299  3.708742e+11 -3.375570e+11  \n",
      "\n",
      "[300 rows x 12 columns]\n"
     ]
    }
   ],
   "source": [
    "import os\n",
    "import pandas as pd\n",
    "from dotenv import load_dotenv\n",
    "from FiinQuantX import FiinSession\n",
    "\n",
    "\n",
    "load_dotenv()\n",
    "username = os.getenv('username')\n",
    "password = os.getenv('password')\n",
    "\n",
    "\n",
    "client = FiinSession(\n",
    "    username=username,\n",
    "    password=password,\n",
    ").login()\n",
    "\n",
    "data = data = client.Fetch_Trading_Data(\n",
    "    realtime = False, \n",
    "    tickers = 'VIX',\n",
    "    fields = ['open', 'high', 'low', 'close', 'volume', 'bu','sd', 'fb', 'fs', 'fn'], \n",
    "    by = '1d',\n",
    "    period = 300,\n",
    ").get_data()\n",
    "\n",
    "print(data)"
   ]
  },
  {
   "cell_type": "code",
   "execution_count": 46,
   "id": "43f39d6c",
   "metadata": {},
   "outputs": [
    {
     "name": "stdout",
     "output_type": "stream",
     "text": [
      "            close   sma_20      sma_50      sma_200\n",
      "0    13408.115776      NaN         NaN          NaN\n",
      "1    13331.933300      NaN         NaN          NaN\n",
      "2    12722.473492      NaN         NaN          NaN\n",
      "3    12798.655968      NaN         NaN          NaN\n",
      "4    12798.655968      NaN         NaN          NaN\n",
      "..            ...      ...         ...          ...\n",
      "295  32600.000000  30582.5  21790.4812  13529.02002\n",
      "296  34850.000000  31127.5  22237.0000  13652.79282\n",
      "297  36850.000000  31690.0  22722.0000  13785.61322\n",
      "298  38400.000000  32245.0  23241.0000  13926.42172\n",
      "299  37700.000000  32815.0  23744.0000  14064.20642\n",
      "\n",
      "[300 rows x 4 columns]\n"
     ]
    }
   ],
   "source": [
    "fi = client.FiinIndicator()\n",
    "data['sma_20'] = fi.sma(data['close'], window = 20)\n",
    "data['sma_50'] = fi.sma(data['close'], window = 50)\n",
    "data['sma_200'] = fi.sma(data['close'], window = 200)\n",
    "print(data[['close', 'sma_20', 'sma_50', 'sma_200']])"
   ]
  },
  {
   "cell_type": "code",
   "execution_count": null,
   "id": "143d77b1",
   "metadata": {},
   "outputs": [
    {
     "name": "stdout",
     "output_type": "stream",
     "text": [
      "[BUY] Date: 2024-09-30 00:00, Shares: 8.0, Price: 11428.8, Cash left: 8569.600000000006\n",
      "[SELL] Date: 89, Shares: 8.0, Price: 10571.64, Cash after sale: 93142.72\n",
      "[BUY] Date: 2025-02-19 00:00, Shares: 8.0, Price: 10666.88, Cash left: 7807.680000000008\n",
      "Final Portfolio Value: 309407.68\n"
     ]
    }
   ],
   "source": [
    "class backtest_strategy:\n",
    "    def __init__(self, data):\n",
    "        self.data = data\n",
    "        self.position = 0  # 1 for holding a position, 0 for no position\n",
    "        self.cash = 100000  # starting cash\n",
    "        self.shares = 0  # number of shares held\n",
    "        self.trades = []  # record of trades\n",
    "\n",
    "    def run(self):\n",
    "        for i in range(1, len(self.data)):\n",
    "            if self.data['sma_20'].iloc[i] > self.data['sma_50'].iloc[i] and self.position == 0:\n",
    "                # Buy signal\n",
    "                self.shares = self.cash // self.data['close'].iloc[i]\n",
    "                self.cash -= self.shares * self.data['close'].iloc[i]\n",
    "                self.position = 1\n",
    "                self.trades.append((self.data.index[i], 'BUY', self.shares, self.data['close'].iloc[i]))\n",
    "                print(f\"[BUY] Date: {self.data['timestamp'].iloc[i]}, Shares: {self.shares}, Price: {self.data['close'].iloc[i]}, Cash left: {self.cash}\")\n",
    "            elif self.data['sma_20'].iloc[i] < self.data['sma_50'].iloc[i] and self.position == 1:\n",
    "                # Sell signal\n",
    "                self.cash += self.shares * self.data['close'].iloc[i]\n",
    "                self.position = 0\n",
    "                self.trades.append((self.data.index[i], 'SELL', self.shares, self.data['close'].iloc[i]))\n",
    "                print(f\"[SELL] Date: {self.data['timestamp'].iloc[i]}, Shares: {self.shares}, Price: {self.data['close'].iloc[i]}, Cash after sale: {self.cash}\")\n",
    "                self.shares = 0\n",
    "\n",
    "        # Final portfolio value\n",
    "        final_value = self.cash + (self.shares * self.data['close'].iloc[-1])\n",
    "        return final_value, self.trades\n",
    "\n",
    "bt = backtest_strategy(data)\n",
    "final_value, trades = bt.run()\n",
    "print(f\"Final Portfolio Value: {final_value}\")"
   ]
  },
  {
   "cell_type": "code",
   "execution_count": null,
   "id": "2c535874",
   "metadata": {},
   "outputs": [],
   "source": []
  },
  {
   "cell_type": "code",
   "execution_count": null,
   "id": "b148ae42",
   "metadata": {},
   "outputs": [],
   "source": []
  }
 ],
 "metadata": {
  "kernelspec": {
   "display_name": "venv",
   "language": "python",
   "name": "python3"
  },
  "language_info": {
   "codemirror_mode": {
    "name": "ipython",
    "version": 3
   },
   "file_extension": ".py",
   "mimetype": "text/x-python",
   "name": "python",
   "nbconvert_exporter": "python",
   "pygments_lexer": "ipython3",
   "version": "3.13.7"
  }
 },
 "nbformat": 4,
 "nbformat_minor": 5
}
